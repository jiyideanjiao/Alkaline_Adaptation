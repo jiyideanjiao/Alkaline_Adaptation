{
  "cells": [
    {
      "cell_type": "markdown",
      "metadata": {
        "id": "view-in-github",
        "colab_type": "text"
      },
      "source": [
        "<a href=\"https://colab.research.google.com/github/jiyideanjiao/Alkaline_Adaptation/blob/main/Copy1_of_Day_4_Exercise_2_Predicting_Wine_Types.ipynb\" target=\"_parent\"><img src=\"https://colab.research.google.com/assets/colab-badge.svg\" alt=\"Open In Colab\"/></a>"
      ]
    },
    {
      "cell_type": "markdown",
      "source": [
        "#**Wine Types Analysis Exercise**\n",
        "\n",
        "We will now focus on our main objectives of building predictive models to predict the wine types (red or white wine) based on other features. We will be following the standard classification Machine Learning pipeline in this case. \n",
        "\n",
        "Adapted from Dipanjan Sarkar et al. 2018. [Practical Machine Learning with Python](https://link.springer.com/book/10.1007/978-1-4842-3207-1)."
      ],
      "metadata": {
        "id": "aDjF76ImzxKN"
      }
    },
    {
      "cell_type": "code",
      "execution_count": null,
      "metadata": {
        "collapsed": true,
        "id": "jeqbjUnXy2TX"
      },
      "outputs": [],
      "source": [
        "# Import necessary dependencies\n",
        "# We wil use matplotlib and seaborn for exploratory data analysis and visualizations\n",
        "import pandas as pd\n",
        "import numpy as np\n",
        "import matplotlib.pyplot as plt\n",
        "from sklearn.model_selection import train_test_split\n",
        "from collections import Counter\n",
        "from sklearn.preprocessing import StandardScaler\n",
        "from sklearn.preprocessing import LabelEncoder\n",
        "\n",
        "%matplotlib inline"
      ]
    },
    {
      "cell_type": "markdown",
      "source": [
        "#Download Wine Quality Datasets"
      ],
      "metadata": {
        "id": "saX_8Cah4fxQ"
      }
    },
    {
      "cell_type": "code",
      "source": [
        "!wget -O winequality-red.csv \"https://archive.ics.uci.edu/ml/machine-learning-databases/wine-quality/winequality-red.csv\"\n",
        "!wget -O winequality-white.csv \"https://archive.ics.uci.edu/ml/machine-learning-databases/wine-quality/winequality-white.csv\"\n",
        "!wget -O winequality.names \"https://archive.ics.uci.edu/ml/machine-learning-databases/wine-quality/winequality.names\""
      ],
      "metadata": {
        "colab": {
          "base_uri": "https://localhost:8080/"
        },
        "id": "Rq_CPonD4mg0",
        "outputId": "026ab2e6-08ec-4913-c4a9-2056261eed70"
      },
      "execution_count": null,
      "outputs": [
        {
          "output_type": "stream",
          "name": "stdout",
          "text": [
            "--2023-05-30 17:49:22--  https://archive.ics.uci.edu/ml/machine-learning-databases/wine-quality/winequality-red.csv\n",
            "Resolving archive.ics.uci.edu (archive.ics.uci.edu)... 128.195.10.252\n",
            "Connecting to archive.ics.uci.edu (archive.ics.uci.edu)|128.195.10.252|:443... connected.\n",
            "HTTP request sent, awaiting response... 200 OK\n",
            "Length: 84199 (82K) [application/x-httpd-php]\n",
            "Saving to: ‘winequality-red.csv’\n",
            "\n",
            "\rwinequality-red.csv   0%[                    ]       0  --.-KB/s               \rwinequality-red.csv 100%[===================>]  82.23K  --.-KB/s    in 0.02s   \n",
            "\n",
            "2023-05-30 17:49:22 (4.51 MB/s) - ‘winequality-red.csv’ saved [84199/84199]\n",
            "\n",
            "--2023-05-30 17:49:22--  https://archive.ics.uci.edu/ml/machine-learning-databases/wine-quality/winequality-white.csv\n",
            "Resolving archive.ics.uci.edu (archive.ics.uci.edu)... 128.195.10.252\n",
            "Connecting to archive.ics.uci.edu (archive.ics.uci.edu)|128.195.10.252|:443... connected.\n",
            "HTTP request sent, awaiting response... 200 OK\n",
            "Length: 264426 (258K) [application/x-httpd-php]\n",
            "Saving to: ‘winequality-white.csv’\n",
            "\n",
            "winequality-white.c 100%[===================>] 258.23K  --.-KB/s    in 0.04s   \n",
            "\n",
            "2023-05-30 17:49:23 (6.83 MB/s) - ‘winequality-white.csv’ saved [264426/264426]\n",
            "\n",
            "--2023-05-30 17:49:23--  https://archive.ics.uci.edu/ml/machine-learning-databases/wine-quality/winequality.names\n",
            "Resolving archive.ics.uci.edu (archive.ics.uci.edu)... 128.195.10.252\n",
            "Connecting to archive.ics.uci.edu (archive.ics.uci.edu)|128.195.10.252|:443... connected.\n",
            "HTTP request sent, awaiting response... 200 OK\n",
            "Length: 3305 (3.2K) [application/x-httpd-php]\n",
            "Saving to: ‘winequality.names’\n",
            "\n",
            "winequality.names   100%[===================>]   3.23K  --.-KB/s    in 0s      \n",
            "\n",
            "2023-05-30 17:49:23 (81.0 MB/s) - ‘winequality.names’ saved [3305/3305]\n",
            "\n"
          ]
        }
      ]
    },
    {
      "cell_type": "markdown",
      "metadata": {
        "id": "pbb4BZzYy2TY"
      },
      "source": [
        "# Load and merge datasets"
      ]
    },
    {
      "cell_type": "code",
      "execution_count": null,
      "metadata": {
        "id": "5u2b3VtPy2TZ"
      },
      "outputs": [],
      "source": [
        "white_wine = pd.read_csv('winequality-white.csv', sep=';')\n",
        "red_wine = pd.read_csv('winequality-red.csv', sep=';')\n",
        "\n",
        "# store wine type as an attribute\n",
        "red_wine['wine_type'] = 'red'   \n",
        "white_wine['wine_type'] = 'white'\n",
        "# bucket wine quality scores into qualitative quality labels\n",
        "# Wine quality scores of 3, 4, and 5 are mapped to low quality,\n",
        "# 6 and 7 are mapped to medium quality, 8 and 9 are mapped to high quality \n",
        "# wines under the quality_label attribute. \n",
        "red_wine['quality_label'] = red_wine['quality'].apply(lambda value: 'low' \n",
        "                                                          if value <= 5 else 'medium' \n",
        "                                                              if value <= 7 else 'high')\n",
        "red_wine['quality_label'] = pd.Categorical(red_wine['quality_label'], \n",
        "                                           categories=['low', 'medium', 'high'])\n",
        "\n",
        "white_wine['quality_label'] = white_wine['quality'].apply(lambda value: 'low' \n",
        "                                                              if value <= 5 else 'medium' \n",
        "                                                                  if value <= 7 else 'high')\n",
        "white_wine['quality_label'] = pd.Categorical(white_wine['quality_label'], \n",
        "                                             categories=['low', 'medium', 'high'])\n",
        "\n",
        "# merge red and white wine datasets\n",
        "wines = pd.concat([red_wine, white_wine])\n",
        "# re-shuffle records just to randomize data points\n",
        "wines = wines.sample(frac=1, random_state=42).reset_index(drop=True)"
      ]
    },
    {
      "cell_type": "markdown",
      "metadata": {
        "id": "6NisWsPzy2Ta"
      },
      "source": [
        "# Understand dataset features and values"
      ]
    },
    {
      "cell_type": "code",
      "execution_count": null,
      "metadata": {
        "id": "NNVKwRe6y2Ta",
        "outputId": "9ce3b311-5f71-4467-eca1-a96ddf6c46ab",
        "colab": {
          "base_uri": "https://localhost:8080/"
        }
      },
      "outputs": [
        {
          "output_type": "stream",
          "name": "stdout",
          "text": [
            "(4898, 14) (1599, 14)\n",
            "<class 'pandas.core.frame.DataFrame'>\n",
            "RangeIndex: 6497 entries, 0 to 6496\n",
            "Data columns (total 14 columns):\n",
            " #   Column                Non-Null Count  Dtype   \n",
            "---  ------                --------------  -----   \n",
            " 0   fixed acidity         6497 non-null   float64 \n",
            " 1   volatile acidity      6497 non-null   float64 \n",
            " 2   citric acid           6497 non-null   float64 \n",
            " 3   residual sugar        6497 non-null   float64 \n",
            " 4   chlorides             6497 non-null   float64 \n",
            " 5   free sulfur dioxide   6497 non-null   float64 \n",
            " 6   total sulfur dioxide  6497 non-null   float64 \n",
            " 7   density               6497 non-null   float64 \n",
            " 8   pH                    6497 non-null   float64 \n",
            " 9   sulphates             6497 non-null   float64 \n",
            " 10  alcohol               6497 non-null   float64 \n",
            " 11  quality               6497 non-null   int64   \n",
            " 12  wine_type             6497 non-null   object  \n",
            " 13  quality_label         6497 non-null   category\n",
            "dtypes: category(1), float64(11), int64(1), object(1)\n",
            "memory usage: 666.5+ KB\n",
            "None\n"
          ]
        }
      ],
      "source": [
        "print(white_wine.shape, red_wine.shape)\n",
        "print(wines.info())"
      ]
    },
    {
      "cell_type": "markdown",
      "source": [
        "We have 4898 white wine data points and 1599 red wine data points. The\n",
        "merged dataset contains a total of 6497 data points and we also get an idea of numeric and categorical\n",
        "attributes."
      ],
      "metadata": {
        "id": "K3thHV0SEuIf"
      }
    },
    {
      "cell_type": "code",
      "execution_count": null,
      "metadata": {
        "id": "23TI5msyy2Tb",
        "outputId": "3b89e945-252a-4c87-d2eb-8047e805db09",
        "colab": {
          "base_uri": "https://localhost:8080/",
          "height": 268
        }
      },
      "outputs": [
        {
          "output_type": "execute_result",
          "data": {
            "text/plain": [
              "   fixed acidity  volatile acidity  citric acid  residual sugar  chlorides  \\\n",
              "0            7.0              0.17         0.74            12.8      0.045   \n",
              "1            7.7              0.64         0.21             2.2      0.077   \n",
              "2            6.8              0.39         0.34             7.4      0.020   \n",
              "3            6.3              0.28         0.47            11.2      0.040   \n",
              "4            7.4              0.35         0.20            13.9      0.054   \n",
              "\n",
              "   free sulfur dioxide  total sulfur dioxide  density    pH  sulphates  \\\n",
              "0                 24.0                 126.0  0.99420  3.26       0.38   \n",
              "1                 32.0                 133.0  0.99560  3.27       0.45   \n",
              "2                 38.0                 133.0  0.99212  3.18       0.44   \n",
              "3                 61.0                 183.0  0.99592  3.12       0.51   \n",
              "4                 63.0                 229.0  0.99888  3.11       0.50   \n",
              "\n",
              "   alcohol  quality wine_type quality_label  \n",
              "0     12.2        8     white          high  \n",
              "1      9.9        5       red           low  \n",
              "2     12.0        7     white        medium  \n",
              "3      9.5        6     white        medium  \n",
              "4      8.9        6     white        medium  "
            ],
            "text/html": [
              "\n",
              "  <div id=\"df-cedd9db6-dcfa-451b-ae14-2e1c6a6f015d\">\n",
              "    <div class=\"colab-df-container\">\n",
              "      <div>\n",
              "<style scoped>\n",
              "    .dataframe tbody tr th:only-of-type {\n",
              "        vertical-align: middle;\n",
              "    }\n",
              "\n",
              "    .dataframe tbody tr th {\n",
              "        vertical-align: top;\n",
              "    }\n",
              "\n",
              "    .dataframe thead th {\n",
              "        text-align: right;\n",
              "    }\n",
              "</style>\n",
              "<table border=\"1\" class=\"dataframe\">\n",
              "  <thead>\n",
              "    <tr style=\"text-align: right;\">\n",
              "      <th></th>\n",
              "      <th>fixed acidity</th>\n",
              "      <th>volatile acidity</th>\n",
              "      <th>citric acid</th>\n",
              "      <th>residual sugar</th>\n",
              "      <th>chlorides</th>\n",
              "      <th>free sulfur dioxide</th>\n",
              "      <th>total sulfur dioxide</th>\n",
              "      <th>density</th>\n",
              "      <th>pH</th>\n",
              "      <th>sulphates</th>\n",
              "      <th>alcohol</th>\n",
              "      <th>quality</th>\n",
              "      <th>wine_type</th>\n",
              "      <th>quality_label</th>\n",
              "    </tr>\n",
              "  </thead>\n",
              "  <tbody>\n",
              "    <tr>\n",
              "      <th>0</th>\n",
              "      <td>7.0</td>\n",
              "      <td>0.17</td>\n",
              "      <td>0.74</td>\n",
              "      <td>12.8</td>\n",
              "      <td>0.045</td>\n",
              "      <td>24.0</td>\n",
              "      <td>126.0</td>\n",
              "      <td>0.99420</td>\n",
              "      <td>3.26</td>\n",
              "      <td>0.38</td>\n",
              "      <td>12.2</td>\n",
              "      <td>8</td>\n",
              "      <td>white</td>\n",
              "      <td>high</td>\n",
              "    </tr>\n",
              "    <tr>\n",
              "      <th>1</th>\n",
              "      <td>7.7</td>\n",
              "      <td>0.64</td>\n",
              "      <td>0.21</td>\n",
              "      <td>2.2</td>\n",
              "      <td>0.077</td>\n",
              "      <td>32.0</td>\n",
              "      <td>133.0</td>\n",
              "      <td>0.99560</td>\n",
              "      <td>3.27</td>\n",
              "      <td>0.45</td>\n",
              "      <td>9.9</td>\n",
              "      <td>5</td>\n",
              "      <td>red</td>\n",
              "      <td>low</td>\n",
              "    </tr>\n",
              "    <tr>\n",
              "      <th>2</th>\n",
              "      <td>6.8</td>\n",
              "      <td>0.39</td>\n",
              "      <td>0.34</td>\n",
              "      <td>7.4</td>\n",
              "      <td>0.020</td>\n",
              "      <td>38.0</td>\n",
              "      <td>133.0</td>\n",
              "      <td>0.99212</td>\n",
              "      <td>3.18</td>\n",
              "      <td>0.44</td>\n",
              "      <td>12.0</td>\n",
              "      <td>7</td>\n",
              "      <td>white</td>\n",
              "      <td>medium</td>\n",
              "    </tr>\n",
              "    <tr>\n",
              "      <th>3</th>\n",
              "      <td>6.3</td>\n",
              "      <td>0.28</td>\n",
              "      <td>0.47</td>\n",
              "      <td>11.2</td>\n",
              "      <td>0.040</td>\n",
              "      <td>61.0</td>\n",
              "      <td>183.0</td>\n",
              "      <td>0.99592</td>\n",
              "      <td>3.12</td>\n",
              "      <td>0.51</td>\n",
              "      <td>9.5</td>\n",
              "      <td>6</td>\n",
              "      <td>white</td>\n",
              "      <td>medium</td>\n",
              "    </tr>\n",
              "    <tr>\n",
              "      <th>4</th>\n",
              "      <td>7.4</td>\n",
              "      <td>0.35</td>\n",
              "      <td>0.20</td>\n",
              "      <td>13.9</td>\n",
              "      <td>0.054</td>\n",
              "      <td>63.0</td>\n",
              "      <td>229.0</td>\n",
              "      <td>0.99888</td>\n",
              "      <td>3.11</td>\n",
              "      <td>0.50</td>\n",
              "      <td>8.9</td>\n",
              "      <td>6</td>\n",
              "      <td>white</td>\n",
              "      <td>medium</td>\n",
              "    </tr>\n",
              "  </tbody>\n",
              "</table>\n",
              "</div>\n",
              "      <button class=\"colab-df-convert\" onclick=\"convertToInteractive('df-cedd9db6-dcfa-451b-ae14-2e1c6a6f015d')\"\n",
              "              title=\"Convert this dataframe to an interactive table.\"\n",
              "              style=\"display:none;\">\n",
              "        \n",
              "  <svg xmlns=\"http://www.w3.org/2000/svg\" height=\"24px\"viewBox=\"0 0 24 24\"\n",
              "       width=\"24px\">\n",
              "    <path d=\"M0 0h24v24H0V0z\" fill=\"none\"/>\n",
              "    <path d=\"M18.56 5.44l.94 2.06.94-2.06 2.06-.94-2.06-.94-.94-2.06-.94 2.06-2.06.94zm-11 1L8.5 8.5l.94-2.06 2.06-.94-2.06-.94L8.5 2.5l-.94 2.06-2.06.94zm10 10l.94 2.06.94-2.06 2.06-.94-2.06-.94-.94-2.06-.94 2.06-2.06.94z\"/><path d=\"M17.41 7.96l-1.37-1.37c-.4-.4-.92-.59-1.43-.59-.52 0-1.04.2-1.43.59L10.3 9.45l-7.72 7.72c-.78.78-.78 2.05 0 2.83L4 21.41c.39.39.9.59 1.41.59.51 0 1.02-.2 1.41-.59l7.78-7.78 2.81-2.81c.8-.78.8-2.07 0-2.86zM5.41 20L4 18.59l7.72-7.72 1.47 1.35L5.41 20z\"/>\n",
              "  </svg>\n",
              "      </button>\n",
              "      \n",
              "  <style>\n",
              "    .colab-df-container {\n",
              "      display:flex;\n",
              "      flex-wrap:wrap;\n",
              "      gap: 12px;\n",
              "    }\n",
              "\n",
              "    .colab-df-convert {\n",
              "      background-color: #E8F0FE;\n",
              "      border: none;\n",
              "      border-radius: 50%;\n",
              "      cursor: pointer;\n",
              "      display: none;\n",
              "      fill: #1967D2;\n",
              "      height: 32px;\n",
              "      padding: 0 0 0 0;\n",
              "      width: 32px;\n",
              "    }\n",
              "\n",
              "    .colab-df-convert:hover {\n",
              "      background-color: #E2EBFA;\n",
              "      box-shadow: 0px 1px 2px rgba(60, 64, 67, 0.3), 0px 1px 3px 1px rgba(60, 64, 67, 0.15);\n",
              "      fill: #174EA6;\n",
              "    }\n",
              "\n",
              "    [theme=dark] .colab-df-convert {\n",
              "      background-color: #3B4455;\n",
              "      fill: #D2E3FC;\n",
              "    }\n",
              "\n",
              "    [theme=dark] .colab-df-convert:hover {\n",
              "      background-color: #434B5C;\n",
              "      box-shadow: 0px 1px 3px 1px rgba(0, 0, 0, 0.15);\n",
              "      filter: drop-shadow(0px 1px 2px rgba(0, 0, 0, 0.3));\n",
              "      fill: #FFFFFF;\n",
              "    }\n",
              "  </style>\n",
              "\n",
              "      <script>\n",
              "        const buttonEl =\n",
              "          document.querySelector('#df-cedd9db6-dcfa-451b-ae14-2e1c6a6f015d button.colab-df-convert');\n",
              "        buttonEl.style.display =\n",
              "          google.colab.kernel.accessAllowed ? 'block' : 'none';\n",
              "\n",
              "        async function convertToInteractive(key) {\n",
              "          const element = document.querySelector('#df-cedd9db6-dcfa-451b-ae14-2e1c6a6f015d');\n",
              "          const dataTable =\n",
              "            await google.colab.kernel.invokeFunction('convertToInteractive',\n",
              "                                                     [key], {});\n",
              "          if (!dataTable) return;\n",
              "\n",
              "          const docLinkHtml = 'Like what you see? Visit the ' +\n",
              "            '<a target=\"_blank\" href=https://colab.research.google.com/notebooks/data_table.ipynb>data table notebook</a>'\n",
              "            + ' to learn more about interactive tables.';\n",
              "          element.innerHTML = '';\n",
              "          dataTable['output_type'] = 'display_data';\n",
              "          await google.colab.output.renderOutput(dataTable, element);\n",
              "          const docLink = document.createElement('div');\n",
              "          docLink.innerHTML = docLinkHtml;\n",
              "          element.appendChild(docLink);\n",
              "        }\n",
              "      </script>\n",
              "    </div>\n",
              "  </div>\n",
              "  "
            ]
          },
          "metadata": {},
          "execution_count": 5
        }
      ],
      "source": [
        "# Let’s take a peek at our dataset to see some sample data points.\n",
        "wines.head()"
      ]
    },
    {
      "cell_type": "markdown",
      "source": [
        "#Utilty functions for model evaluation"
      ],
      "metadata": {
        "id": "HDPzEHdm26N7"
      }
    },
    {
      "cell_type": "code",
      "source": [
        "from sklearn import metrics\n",
        "import numpy as np\n",
        "import pandas as pd\n",
        "import matplotlib.pyplot as plt\n",
        "from sklearn.preprocessing import LabelEncoder\n",
        "from sklearn.base import clone\n",
        "from sklearn.preprocessing import label_binarize\n",
        "from scipy import interp\n",
        "from sklearn.metrics import roc_curve, auc \n",
        "\n",
        "def get_metrics(true_labels, predicted_labels):\n",
        "    \n",
        "    print('Accuracy:', np.round(\n",
        "                        metrics.accuracy_score(true_labels, \n",
        "                                               predicted_labels),\n",
        "                        4))\n",
        "    print('Precision:', np.round(\n",
        "                        metrics.precision_score(true_labels, \n",
        "                                               predicted_labels,\n",
        "                                               average='weighted'),\n",
        "                        4))\n",
        "    print('Recall:', np.round(\n",
        "                        metrics.recall_score(true_labels, \n",
        "                                               predicted_labels,\n",
        "                                               average='weighted'),\n",
        "                        4))\n",
        "    print('F1 Score:', np.round(\n",
        "                        metrics.f1_score(true_labels, \n",
        "                                               predicted_labels,\n",
        "                                               average='weighted'),\n",
        "                        4))\n",
        "def display_classification_report(true_labels, predicted_labels, classes=[1,0]):\n",
        "\n",
        "    report = metrics.classification_report(y_true=true_labels, \n",
        "                                           y_pred=predicted_labels, \n",
        "                                           labels=classes) \n",
        "    print(report)\n",
        "    \n",
        "def display_confusion_matrix(true_labels, predicted_labels, classes=[1,0]):\n",
        "    \n",
        "    total_classes = len(classes)\n",
        "    level_labels = [total_classes*[0], list(range(total_classes))]\n",
        "    cm = metrics.confusion_matrix(y_true=true_labels, y_pred=predicted_labels, \n",
        "                                  labels=classes)\n",
        "    cm_frame = pd.DataFrame(data=cm, \n",
        "                            columns=pd.MultiIndex(levels=[['Predicted:'], classes], \n",
        "                                                  codes=level_labels), \n",
        "                            index=pd.MultiIndex(levels=[['Actual:'], classes], \n",
        "                                                codes=level_labels)) \n",
        "    print(cm_frame) \n",
        "\n",
        "def display_model_performance_metrics(true_labels, predicted_labels, classes=[1,0]):\n",
        "    print('Model Performance metrics:')\n",
        "    print('-'*30)\n",
        "    get_metrics(true_labels=true_labels, predicted_labels=predicted_labels)\n",
        "    print('\\nModel Classification report:')\n",
        "    print('-'*30)\n",
        "    display_classification_report(true_labels=true_labels, predicted_labels=predicted_labels, \n",
        "                                  classes=classes)\n",
        "    print('\\nPrediction Confusion Matrix:')\n",
        "    print('-'*30)\n",
        "    display_confusion_matrix(true_labels=true_labels, predicted_labels=predicted_labels, \n",
        "                             classes=classes)\n",
        "\n",
        "def plot_model_roc_curve(clf, features, true_labels, label_encoder=None, class_names=None):\n",
        "    \n",
        "    ## Compute ROC curve and ROC area for each class\n",
        "    fpr = dict()\n",
        "    tpr = dict()\n",
        "    roc_auc = dict()\n",
        "    if hasattr(clf, 'classes_'):\n",
        "        class_labels = clf.classes_\n",
        "    elif label_encoder:\n",
        "        class_labels = label_encoder.classes_\n",
        "    elif class_names:\n",
        "        class_labels = class_names\n",
        "    else:\n",
        "        raise ValueError('Unable to derive prediction classes, please specify class_names!')\n",
        "    n_classes = len(class_labels)\n",
        "    y_test = label_binarize(true_labels, classes=class_labels)\n",
        "    if n_classes == 2:\n",
        "        if hasattr(clf, 'predict_proba'):\n",
        "            prob = clf.predict_proba(features)\n",
        "            y_score = prob[:, prob.shape[1]-1] \n",
        "        elif hasattr(clf, 'decision_function'):\n",
        "            prob = clf.decision_function(features)\n",
        "            y_score = prob[:, prob.shape[1]-1]\n",
        "        else:\n",
        "            raise AttributeError(\"Estimator doesn't have a probability or confidence scoring system!\")\n",
        "        \n",
        "        fpr, tpr, _ = roc_curve(y_test, y_score)      \n",
        "        roc_auc = auc(fpr, tpr)\n",
        "        plt.plot(fpr, tpr, label='ROC curve (area = {0:0.2f})'\n",
        "                                 ''.format(roc_auc),\n",
        "                 linewidth=2.5)\n",
        "        \n",
        "    elif n_classes > 2:\n",
        "        if hasattr(clf, 'predict_proba'):\n",
        "            y_score = clf.predict_proba(features)\n",
        "        elif hasattr(clf, 'decision_function'):\n",
        "            y_score = clf.decision_function(features)\n",
        "        else:\n",
        "            raise AttributeError(\"Estimator doesn't have a probability or confidence scoring system!\")\n",
        "\n",
        "        for i in range(n_classes):\n",
        "            fpr[i], tpr[i], _ = roc_curve(y_test[:, i], y_score[:, i])\n",
        "            roc_auc[i] = auc(fpr[i], tpr[i])\n",
        "\n",
        "        ## Compute micro-average ROC curve and ROC area\n",
        "        fpr[\"micro\"], tpr[\"micro\"], _ = roc_curve(y_test.ravel(), y_score.ravel())\n",
        "        roc_auc[\"micro\"] = auc(fpr[\"micro\"], tpr[\"micro\"])\n",
        "\n",
        "        ## Compute macro-average ROC curve and ROC area\n",
        "        # First aggregate all false positive rates\n",
        "        all_fpr = np.unique(np.concatenate([fpr[i] for i in range(n_classes)]))\n",
        "        # Then interpolate all ROC curves at this points\n",
        "        mean_tpr = np.zeros_like(all_fpr)\n",
        "        for i in range(n_classes):\n",
        "            mean_tpr += interp(all_fpr, fpr[i], tpr[i])\n",
        "        # Finally average it and compute AUC\n",
        "        mean_tpr /= n_classes\n",
        "        fpr[\"macro\"] = all_fpr\n",
        "        tpr[\"macro\"] = mean_tpr\n",
        "        roc_auc[\"macro\"] = auc(fpr[\"macro\"], tpr[\"macro\"])\n",
        "\n",
        "        ## Plot ROC curves\n",
        "        plt.figure(figsize=(6, 4))\n",
        "        plt.plot(fpr[\"micro\"], tpr[\"micro\"],\n",
        "                 label='micro-average ROC curve (area = {0:0.2f})'\n",
        "                       ''.format(roc_auc[\"micro\"]), linewidth=3)\n",
        "\n",
        "        plt.plot(fpr[\"macro\"], tpr[\"macro\"],\n",
        "                 label='macro-average ROC curve (area = {0:0.2f})'\n",
        "                       ''.format(roc_auc[\"macro\"]), linewidth=3)\n",
        "\n",
        "        for i, label in enumerate(class_labels):\n",
        "            plt.plot(fpr[i], tpr[i], label='ROC curve of class {0} (area = {1:0.2f})'\n",
        "                                           ''.format(label, roc_auc[i]), \n",
        "                     linewidth=2, linestyle=':')\n",
        "    else:\n",
        "        raise ValueError('Number of classes should be atleast 2 or more')\n",
        "        \n",
        "    plt.plot([0, 1], [0, 1], 'k--')\n",
        "    plt.xlim([0.0, 1.0])\n",
        "    plt.ylim([0.0, 1.05])\n",
        "    plt.xlabel('False Positive Rate')\n",
        "    plt.ylabel('True Positive Rate')\n",
        "    plt.title('Receiver Operating Characteristic (ROC) Curve')\n",
        "    plt.legend(loc=\"lower right\")\n",
        "    plt.show()\n",
        "\n",
        "def plot_model_decision_surface(clf, train_features, train_labels,\n",
        "                                plot_step=0.02, cmap=plt.cm.RdYlBu,\n",
        "                                markers=None, alphas=None, colors=None):\n",
        "    \n",
        "    if train_features.shape[1] != 2:\n",
        "        raise ValueError(\"X_train should have exactly 2 columnns!\")\n",
        "    \n",
        "    x_min, x_max = train_features[:, 0].min() - plot_step, train_features[:, 0].max() + plot_step\n",
        "    y_min, y_max = train_features[:, 1].min() - plot_step, train_features[:, 1].max() + plot_step\n",
        "    xx, yy = np.meshgrid(np.arange(x_min, x_max, plot_step),\n",
        "                         np.arange(y_min, y_max, plot_step))\n",
        "\n",
        "    clf_est = clone(clf)\n",
        "    clf_est.fit(train_features,train_labels)\n",
        "    if hasattr(clf_est, 'predict_proba'):\n",
        "        Z = clf_est.predict_proba(np.c_[xx.ravel(), yy.ravel()])[:,1]\n",
        "    else:\n",
        "        Z = clf_est.predict(np.c_[xx.ravel(), yy.ravel()])    \n",
        "    Z = Z.reshape(xx.shape)\n",
        "    cs = plt.contourf(xx, yy, Z, cmap=cmap)\n",
        "    \n",
        "    le = LabelEncoder()\n",
        "    y_enc = le.fit_transform(train_labels)\n",
        "    n_classes = len(le.classes_)\n",
        "    plot_colors = ''.join(colors) if colors else [None] * n_classes\n",
        "    label_names = le.classes_\n",
        "    markers = markers if markers else [None] * n_classes\n",
        "    alphas = alphas if alphas else [None] * n_classes\n",
        "    for i, color in zip(range(n_classes), plot_colors):\n",
        "        idx = np.where(y_enc == i)\n",
        "        plt.scatter(train_features[idx, 0], train_features[idx, 1], c=color,\n",
        "                    label=label_names[i], cmap=cmap, edgecolors='black', \n",
        "                    marker=markers[i], alpha=alphas[i])\n",
        "    plt.legend()\n",
        "    plt.show()\n"
      ],
      "metadata": {
        "id": "mtYsmo4VaLUG"
      },
      "execution_count": null,
      "outputs": []
    },
    {
      "cell_type": "markdown",
      "source": [
        "#Predicting Wine Types\n",
        "\n",
        "We will predict the wine type based on other features. To start with, we\n",
        "will first select our necessary features and separate out the prediction class labels and prepare train and test\n",
        "datasets. We use the prefix **wtp_** in our variables to easily identify them as needed, where **wtp** depicts wine\n",
        "type prediction."
      ],
      "metadata": {
        "id": "EshuYVJGaZKT"
      }
    },
    {
      "cell_type": "code",
      "source": [
        "wtp_features = wines.iloc[:,:-3]\n",
        "wtp_feature_names = wtp_features.columns\n",
        "wtp_class_labels = np.array(wines['wine_type'])\n",
        "\n",
        "# prepare train and test datasets\n",
        "\n",
        "wtp_train_X, wtp_test_X, wtp_train_y, wtp_test_y = train_test_split(wtp_features, wtp_class_labels, test_size=0.2, random_state=42)\n",
        "\n",
        "\n",
        "print(Counter(wtp_train_y), Counter(wtp_test_y))\n",
        "print('Features:', list(wtp_feature_names))"
      ],
      "metadata": {
        "colab": {
          "base_uri": "https://localhost:8080/"
        },
        "id": "aBMtfCKVaxYL",
        "outputId": "cc47c21f-b9e1-4eda-9b6f-685e7acfe95c"
      },
      "execution_count": null,
      "outputs": [
        {
          "output_type": "stream",
          "name": "stdout",
          "text": [
            "Counter({'white': 3907, 'red': 1290}) Counter({'white': 991, 'red': 309})\n",
            "Features: ['fixed acidity', 'volatile acidity', 'citric acid', 'residual sugar', 'chlorides', 'free sulfur dioxide', 'total sulfur dioxide', 'density', 'pH', 'sulphates', 'alcohol']\n"
          ]
        }
      ]
    },
    {
      "cell_type": "markdown",
      "source": [
        "The numbers show us the wine samples for each class and we can also see the feature names which will\n",
        "be used in our feature set."
      ],
      "metadata": {
        "id": "P-vSMGE3a4l5"
      }
    },
    {
      "cell_type": "markdown",
      "source": [
        "##Feature Scaling\n",
        "\n",
        "We will be using a standard scaler in this\n",
        "scenario."
      ],
      "metadata": {
        "id": "v3dBYvDYbAj3"
      }
    },
    {
      "cell_type": "code",
      "source": [
        "# Define the scaler \n",
        "wtp_ss = StandardScaler()\n",
        "\n",
        "# Scale the train set\n",
        "wtp_train_SX = wtp_ss.fit_transform(wtp_train_X)\n",
        "\n",
        "# Scale the test set\n",
        "wtp_test_SX = wtp_ss.transform(wtp_test_X)"
      ],
      "metadata": {
        "id": "VPL5QwIpbO6k"
      },
      "execution_count": null,
      "outputs": []
    },
    {
      "cell_type": "markdown",
      "source": [
        "##Train a Model using Logistic Regression\n",
        "Since we are dealing with a binary classification problem, one of the traditional Machine Learning\n",
        "algorithms we can use is the logistic regression model."
      ],
      "metadata": {
        "id": "2p3HzmG0blZh"
      }
    },
    {
      "cell_type": "markdown",
      "source": [
        "###Train the model using LogisticRegression"
      ],
      "metadata": {
        "id": "66IV1ND_0IU0"
      }
    },
    {
      "cell_type": "code",
      "source": [
        "from sklearn.linear_model import LogisticRegression\n",
        "logreg_model = LogisticRegression()"
      ],
      "metadata": {
        "id": "KMh1giqObxdH"
      },
      "execution_count": null,
      "outputs": []
    },
    {
      "cell_type": "markdown",
      "source": [
        "###Evaluate model performance"
      ],
      "metadata": {
        "id": "4DJq-KA_rjm8"
      }
    },
    {
      "cell_type": "code",
      "source": [
        "# let’s predict the wine types for our test data samples and evaluate the performance.\n",
        "from sklearn.linear_model import LogisticRegression\n",
        "logreg_model = LogisticRegression()\n",
        "logreg_model.fit(wtp_train_SX, wtp_train_y)\n",
        "wtp_lr_predictions =logreg_model.predict(wtp_test_SX)\n",
        "display_model_performance_metrics(true_labels=wtp_test_y, predicted_labels=wtp_lr_predictions, \n",
        "                                      classes=['red', 'white'])"
      ],
      "metadata": {
        "colab": {
          "base_uri": "https://localhost:8080/"
        },
        "id": "hacpZPrHb-Ll",
        "outputId": "b333ada1-65ee-44d8-9387-615588e01010"
      },
      "execution_count": null,
      "outputs": [
        {
          "output_type": "stream",
          "name": "stdout",
          "text": [
            "Model Performance metrics:\n",
            "------------------------------\n",
            "Accuracy: 0.9931\n",
            "Precision: 0.9931\n",
            "Recall: 0.9931\n",
            "F1 Score: 0.9931\n",
            "\n",
            "Model Classification report:\n",
            "------------------------------\n",
            "              precision    recall  f1-score   support\n",
            "\n",
            "         red       0.99      0.98      0.99       309\n",
            "       white       0.99      1.00      1.00       991\n",
            "\n",
            "    accuracy                           0.99      1300\n",
            "   macro avg       0.99      0.99      0.99      1300\n",
            "weighted avg       0.99      0.99      0.99      1300\n",
            "\n",
            "\n",
            "Prediction Confusion Matrix:\n",
            "------------------------------\n",
            "              Predicted:      \n",
            "                     red white\n",
            "Actual: red          302     7\n",
            "        white          2   989\n"
          ]
        }
      ]
    },
    {
      "cell_type": "markdown",
      "source": [
        "We get an overall F1 Score and model accuracy of 99.2%! In spite of low samples of red wine, we seem to do pretty well. In case your models do not perform\n",
        "well on other datasets due to a class imbalance problem, you can consider over-sampling or under-sampling\n",
        "techniques including sample selection as well as SMOTE."
      ],
      "metadata": {
        "id": "drwr0kBNcVE7"
      }
    },
    {
      "cell_type": "markdown",
      "source": [
        "##Model Interpretation"
      ],
      "metadata": {
        "id": "rNUM5Wj2rKMy"
      }
    },
    {
      "cell_type": "code",
      "source": [
        "# Install skater package\n",
        "!pip install git+https://github.com/oracle/Skater.git"
      ],
      "metadata": {
        "colab": {
          "base_uri": "https://localhost:8080/"
        },
        "id": "_xfBUs0JqmO6",
        "outputId": "8c9c7e85-6b56-47d7-8ce7-d8ec78c71630"
      },
      "execution_count": null,
      "outputs": [
        {
          "output_type": "stream",
          "name": "stdout",
          "text": [
            "Looking in indexes: https://pypi.org/simple, https://us-python.pkg.dev/colab-wheels/public/simple/\n",
            "Collecting git+https://github.com/oracle/Skater.git\n",
            "  Cloning https://github.com/oracle/Skater.git to /tmp/pip-req-build-cbds7_5b\n",
            "  Running command git clone --filter=blob:none --quiet https://github.com/oracle/Skater.git /tmp/pip-req-build-cbds7_5b\n",
            "  Resolved https://github.com/oracle/Skater.git to commit 1ad4b4657a51ede7312fd9545e0db46316d481b3\n",
            "  Preparing metadata (setup.py) ... \u001b[?25l\u001b[?25hdone\n",
            "Requirement already satisfied: scikit-learn>=0.19 in /usr/local/lib/python3.10/dist-packages (from skater==1.1.2b1) (1.2.2)\n",
            "Requirement already satisfied: scikit-image>=0.14 in /usr/local/lib/python3.10/dist-packages (from skater==1.1.2b1) (0.19.3)\n",
            "Requirement already satisfied: pandas>=0.22.0 in /usr/local/lib/python3.10/dist-packages (from skater==1.1.2b1) (1.5.3)\n",
            "Collecting lime>=0.1.1.21 (from skater==1.1.2b1)\n",
            "  Downloading lime-0.2.0.1.tar.gz (275 kB)\n",
            "\u001b[2K     \u001b[90m━━━━━━━━━━━━━━━━━━━━━━━━━━━━━━━━━━━━━━━\u001b[0m \u001b[32m275.7/275.7 kB\u001b[0m \u001b[31m3.5 MB/s\u001b[0m eta \u001b[36m0:00:00\u001b[0m\n",
            "\u001b[?25h  Preparing metadata (setup.py) ... \u001b[?25l\u001b[?25hdone\n",
            "Requirement already satisfied: requests in /usr/local/lib/python3.10/dist-packages (from skater==1.1.2b1) (2.27.1)\n",
            "Collecting multiprocess (from skater==1.1.2b1)\n",
            "  Downloading multiprocess-0.70.14-py310-none-any.whl (134 kB)\n",
            "\u001b[2K     \u001b[90m━━━━━━━━━━━━━━━━━━━━━━━━━━━━━━━━━━━━━━\u001b[0m \u001b[32m134.3/134.3 kB\u001b[0m \u001b[31m14.6 MB/s\u001b[0m eta \u001b[36m0:00:00\u001b[0m\n",
            "\u001b[?25hCollecting dill>=0.2.6 (from skater==1.1.2b1)\n",
            "  Downloading dill-0.3.6-py3-none-any.whl (110 kB)\n",
            "\u001b[2K     \u001b[90m━━━━━━━━━━━━━━━━━━━━━━━━━━━━━━━━━━━━━━\u001b[0m \u001b[32m110.5/110.5 kB\u001b[0m \u001b[31m10.7 MB/s\u001b[0m eta \u001b[36m0:00:00\u001b[0m\n",
            "\u001b[?25hRequirement already satisfied: joblib>=0.11 in /usr/local/lib/python3.10/dist-packages (from skater==1.1.2b1) (1.2.0)\n",
            "Requirement already satisfied: Jinja2>=2.10.1 in /usr/local/lib/python3.10/dist-packages (from skater==1.1.2b1) (3.1.2)\n",
            "Requirement already satisfied: pydotplus>=2.0.2 in /usr/local/lib/python3.10/dist-packages (from skater==1.1.2b1) (2.0.2)\n",
            "Requirement already satisfied: plotly>=3.2.0 in /usr/local/lib/python3.10/dist-packages (from skater==1.1.2b1) (5.13.1)\n",
            "Collecting bs4 (from skater==1.1.2b1)\n",
            "  Downloading bs4-0.0.1.tar.gz (1.1 kB)\n",
            "  Preparing metadata (setup.py) ... \u001b[?25l\u001b[?25hdone\n",
            "Requirement already satisfied: six in /usr/local/lib/python3.10/dist-packages (from skater==1.1.2b1) (1.16.0)\n",
            "Requirement already satisfied: MarkupSafe>=2.0 in /usr/local/lib/python3.10/dist-packages (from Jinja2>=2.10.1->skater==1.1.2b1) (2.1.2)\n",
            "Requirement already satisfied: matplotlib in /usr/local/lib/python3.10/dist-packages (from lime>=0.1.1.21->skater==1.1.2b1) (3.7.1)\n",
            "Requirement already satisfied: numpy in /usr/local/lib/python3.10/dist-packages (from lime>=0.1.1.21->skater==1.1.2b1) (1.22.4)\n",
            "Requirement already satisfied: scipy in /usr/local/lib/python3.10/dist-packages (from lime>=0.1.1.21->skater==1.1.2b1) (1.10.1)\n",
            "Requirement already satisfied: tqdm in /usr/local/lib/python3.10/dist-packages (from lime>=0.1.1.21->skater==1.1.2b1) (4.65.0)\n",
            "Requirement already satisfied: python-dateutil>=2.8.1 in /usr/local/lib/python3.10/dist-packages (from pandas>=0.22.0->skater==1.1.2b1) (2.8.2)\n",
            "Requirement already satisfied: pytz>=2020.1 in /usr/local/lib/python3.10/dist-packages (from pandas>=0.22.0->skater==1.1.2b1) (2022.7.1)\n",
            "Requirement already satisfied: tenacity>=6.2.0 in /usr/local/lib/python3.10/dist-packages (from plotly>=3.2.0->skater==1.1.2b1) (8.2.2)\n",
            "Requirement already satisfied: pyparsing>=2.0.1 in /usr/local/lib/python3.10/dist-packages (from pydotplus>=2.0.2->skater==1.1.2b1) (3.0.9)\n",
            "Requirement already satisfied: networkx>=2.2 in /usr/local/lib/python3.10/dist-packages (from scikit-image>=0.14->skater==1.1.2b1) (3.1)\n",
            "Requirement already satisfied: pillow!=7.1.0,!=7.1.1,!=8.3.0,>=6.1.0 in /usr/local/lib/python3.10/dist-packages (from scikit-image>=0.14->skater==1.1.2b1) (8.4.0)\n",
            "Requirement already satisfied: imageio>=2.4.1 in /usr/local/lib/python3.10/dist-packages (from scikit-image>=0.14->skater==1.1.2b1) (2.25.1)\n",
            "Requirement already satisfied: tifffile>=2019.7.26 in /usr/local/lib/python3.10/dist-packages (from scikit-image>=0.14->skater==1.1.2b1) (2023.4.12)\n",
            "Requirement already satisfied: PyWavelets>=1.1.1 in /usr/local/lib/python3.10/dist-packages (from scikit-image>=0.14->skater==1.1.2b1) (1.4.1)\n",
            "Requirement already satisfied: packaging>=20.0 in /usr/local/lib/python3.10/dist-packages (from scikit-image>=0.14->skater==1.1.2b1) (23.1)\n",
            "Requirement already satisfied: threadpoolctl>=2.0.0 in /usr/local/lib/python3.10/dist-packages (from scikit-learn>=0.19->skater==1.1.2b1) (3.1.0)\n",
            "Requirement already satisfied: beautifulsoup4 in /usr/local/lib/python3.10/dist-packages (from bs4->skater==1.1.2b1) (4.11.2)\n",
            "Requirement already satisfied: urllib3<1.27,>=1.21.1 in /usr/local/lib/python3.10/dist-packages (from requests->skater==1.1.2b1) (1.26.15)\n",
            "Requirement already satisfied: certifi>=2017.4.17 in /usr/local/lib/python3.10/dist-packages (from requests->skater==1.1.2b1) (2022.12.7)\n",
            "Requirement already satisfied: charset-normalizer~=2.0.0 in /usr/local/lib/python3.10/dist-packages (from requests->skater==1.1.2b1) (2.0.12)\n",
            "Requirement already satisfied: idna<4,>=2.5 in /usr/local/lib/python3.10/dist-packages (from requests->skater==1.1.2b1) (3.4)\n",
            "Requirement already satisfied: soupsieve>1.2 in /usr/local/lib/python3.10/dist-packages (from beautifulsoup4->bs4->skater==1.1.2b1) (2.4.1)\n",
            "Requirement already satisfied: contourpy>=1.0.1 in /usr/local/lib/python3.10/dist-packages (from matplotlib->lime>=0.1.1.21->skater==1.1.2b1) (1.0.7)\n",
            "Requirement already satisfied: cycler>=0.10 in /usr/local/lib/python3.10/dist-packages (from matplotlib->lime>=0.1.1.21->skater==1.1.2b1) (0.11.0)\n",
            "Requirement already satisfied: fonttools>=4.22.0 in /usr/local/lib/python3.10/dist-packages (from matplotlib->lime>=0.1.1.21->skater==1.1.2b1) (4.39.3)\n",
            "Requirement already satisfied: kiwisolver>=1.0.1 in /usr/local/lib/python3.10/dist-packages (from matplotlib->lime>=0.1.1.21->skater==1.1.2b1) (1.4.4)\n",
            "Building wheels for collected packages: skater, lime, bs4\n",
            "  Building wheel for skater (setup.py) ... \u001b[?25l\u001b[?25hdone\n",
            "  Created wheel for skater: filename=skater-1.1.2b1-py3-none-any.whl size=120024 sha256=2571224254cfc1d56d0813f2751c81737f1d4413b853f1cd0a6a62864e22b807\n",
            "  Stored in directory: /tmp/pip-ephem-wheel-cache-rxsob815/wheels/e9/ca/57/8f113272f3f42697103f1e2ea53143cd09170e4d42e7c263c0\n",
            "  Building wheel for lime (setup.py) ... \u001b[?25l\u001b[?25hdone\n",
            "  Created wheel for lime: filename=lime-0.2.0.1-py3-none-any.whl size=283839 sha256=e18a679b3dca965ec342ff7d41196854164e6d70022082d8bf7dd7d37f0a705b\n",
            "  Stored in directory: /root/.cache/pip/wheels/fd/a2/af/9ac0a1a85a27f314a06b39e1f492bee1547d52549a4606ed89\n",
            "  Building wheel for bs4 (setup.py) ... \u001b[?25l\u001b[?25hdone\n",
            "  Created wheel for bs4: filename=bs4-0.0.1-py3-none-any.whl size=1257 sha256=7af8f1e324e5d2c02e40abe16f3860d258f4f628fa25e0203dce2fbe0f35cbe3\n",
            "  Stored in directory: /root/.cache/pip/wheels/25/42/45/b773edc52acb16cd2db4cf1a0b47117e2f69bb4eb300ed0e70\n",
            "Successfully built skater lime bs4\n",
            "Installing collected packages: dill, multiprocess, bs4, lime, skater\n",
            "Successfully installed bs4-0.0.1 dill-0.3.6 lime-0.2.0.1 multiprocess-0.70.14 skater-1.1.2b1\n"
          ]
        }
      ]
    },
    {
      "cell_type": "markdown",
      "source": [
        "###Visualize Feature Importances"
      ],
      "metadata": {
        "id": "PVgC2kDWrZOg"
      }
    },
    {
      "cell_type": "code",
      "source": [
        "from skater.core.explanations import Interpretation\n",
        "from skater.model import InMemoryModel\n",
        "Features=wtp_feature_names\n",
        "wtp_interpreter = Interpretation(Features)\n",
        "wtp_im_model = InMemoryModel(logreg_model.predict_proba, examples=wtp_train_SX)\n",
        "plots = wtp_interpreter.feature_importance.plot_feature_importance(wtp_im_model, ascending=False)"
      ],
      "metadata": {
        "colab": {
          "base_uri": "https://localhost:8080/",
          "height": 389
        },
        "id": "JCzpeRfKqZF0",
        "outputId": "3faccd67-25b5-4a19-8316-86a191120695"
      },
      "execution_count": null,
      "outputs": [
        {
          "output_type": "error",
          "ename": "DataSetError",
          "evalue": "ignored",
          "traceback": [
            "\u001b[0;31m---------------------------------------------------------------------------\u001b[0m",
            "\u001b[0;31mDataSetError\u001b[0m                              Traceback (most recent call last)",
            "\u001b[0;32m<ipython-input-51-edf4e0663452>\u001b[0m in \u001b[0;36m<cell line: 4>\u001b[0;34m()\u001b[0m\n\u001b[1;32m      2\u001b[0m \u001b[0;32mfrom\u001b[0m \u001b[0mskater\u001b[0m\u001b[0;34m.\u001b[0m\u001b[0mmodel\u001b[0m \u001b[0;32mimport\u001b[0m \u001b[0mInMemoryModel\u001b[0m\u001b[0;34m\u001b[0m\u001b[0;34m\u001b[0m\u001b[0m\n\u001b[1;32m      3\u001b[0m \u001b[0mFeatures\u001b[0m\u001b[0;34m=\u001b[0m\u001b[0mwtp_feature_names\u001b[0m\u001b[0;34m\u001b[0m\u001b[0;34m\u001b[0m\u001b[0m\n\u001b[0;32m----> 4\u001b[0;31m \u001b[0mwtp_interpreter\u001b[0m \u001b[0;34m=\u001b[0m \u001b[0mInterpretation\u001b[0m\u001b[0;34m(\u001b[0m\u001b[0mFeatures\u001b[0m\u001b[0;34m)\u001b[0m\u001b[0;34m\u001b[0m\u001b[0;34m\u001b[0m\u001b[0m\n\u001b[0m\u001b[1;32m      5\u001b[0m \u001b[0mwtp_im_model\u001b[0m \u001b[0;34m=\u001b[0m \u001b[0mInMemoryModel\u001b[0m\u001b[0;34m(\u001b[0m\u001b[0mlogreg_model\u001b[0m\u001b[0;34m.\u001b[0m\u001b[0mpredict_proba\u001b[0m\u001b[0;34m,\u001b[0m \u001b[0mexamples\u001b[0m\u001b[0;34m=\u001b[0m\u001b[0mwtp_train_SX\u001b[0m\u001b[0;34m)\u001b[0m\u001b[0;34m\u001b[0m\u001b[0;34m\u001b[0m\u001b[0m\n\u001b[1;32m      6\u001b[0m \u001b[0mplots\u001b[0m \u001b[0;34m=\u001b[0m \u001b[0mwtp_interpreter\u001b[0m\u001b[0;34m.\u001b[0m\u001b[0mfeature_importance\u001b[0m\u001b[0;34m.\u001b[0m\u001b[0mplot_feature_importance\u001b[0m\u001b[0;34m(\u001b[0m\u001b[0mwtp_im_model\u001b[0m\u001b[0;34m,\u001b[0m \u001b[0mascending\u001b[0m\u001b[0;34m=\u001b[0m\u001b[0;32mFalse\u001b[0m\u001b[0;34m)\u001b[0m\u001b[0;34m\u001b[0m\u001b[0;34m\u001b[0m\u001b[0m\n",
            "\u001b[0;32m/usr/local/lib/python3.10/dist-packages/skater/core/explanations.py\u001b[0m in \u001b[0;36m__init__\u001b[0;34m(self, training_data, training_labels, class_names, feature_names, index, log_level)\u001b[0m\n\u001b[1;32m     39\u001b[0m         \u001b[0mself\u001b[0m\u001b[0;34m.\u001b[0m\u001b[0mfeature_names\u001b[0m \u001b[0;34m=\u001b[0m \u001b[0mfeature_names\u001b[0m\u001b[0;34m\u001b[0m\u001b[0;34m\u001b[0m\u001b[0m\n\u001b[1;32m     40\u001b[0m         \u001b[0mself\u001b[0m\u001b[0;34m.\u001b[0m\u001b[0mclass_names\u001b[0m \u001b[0;34m=\u001b[0m \u001b[0mclass_names\u001b[0m\u001b[0;34m\u001b[0m\u001b[0;34m\u001b[0m\u001b[0m\n\u001b[0;32m---> 41\u001b[0;31m         self.load_data(training_data,\n\u001b[0m\u001b[1;32m     42\u001b[0m                        \u001b[0mtraining_labels\u001b[0m\u001b[0;34m=\u001b[0m\u001b[0mtraining_labels\u001b[0m\u001b[0;34m,\u001b[0m\u001b[0;34m\u001b[0m\u001b[0;34m\u001b[0m\u001b[0m\n\u001b[1;32m     43\u001b[0m                        \u001b[0mfeature_names\u001b[0m\u001b[0;34m=\u001b[0m\u001b[0mfeature_names\u001b[0m\u001b[0;34m,\u001b[0m\u001b[0;34m\u001b[0m\u001b[0;34m\u001b[0m\u001b[0m\n",
            "\u001b[0;32m/usr/local/lib/python3.10/dist-packages/skater/core/explanations.py\u001b[0m in \u001b[0;36mload_data\u001b[0;34m(self, training_data, training_labels, feature_names, index)\u001b[0m\n\u001b[1;32m     71\u001b[0m \u001b[0;34m\u001b[0m\u001b[0m\n\u001b[1;32m     72\u001b[0m         \u001b[0mself\u001b[0m\u001b[0;34m.\u001b[0m\u001b[0mlogger\u001b[0m\u001b[0;34m.\u001b[0m\u001b[0minfo\u001b[0m\u001b[0;34m(\u001b[0m\u001b[0;34m\"Loading Data\"\u001b[0m\u001b[0;34m)\u001b[0m\u001b[0;34m\u001b[0m\u001b[0;34m\u001b[0m\u001b[0m\n\u001b[0;32m---> 73\u001b[0;31m         self.data_set = DataManager(training_data,\n\u001b[0m\u001b[1;32m     74\u001b[0m                                     \u001b[0my\u001b[0m\u001b[0;34m=\u001b[0m\u001b[0mtraining_labels\u001b[0m\u001b[0;34m,\u001b[0m\u001b[0;34m\u001b[0m\u001b[0;34m\u001b[0m\u001b[0m\n\u001b[1;32m     75\u001b[0m                                     \u001b[0mfeature_names\u001b[0m\u001b[0;34m=\u001b[0m\u001b[0mfeature_names\u001b[0m\u001b[0;34m,\u001b[0m\u001b[0;34m\u001b[0m\u001b[0;34m\u001b[0m\u001b[0m\n",
            "\u001b[0;32m/usr/local/lib/python3.10/dist-packages/skater/data/datamanager.py\u001b[0m in \u001b[0;36m__init__\u001b[0;34m(self, X, y, feature_names, index, log_level)\u001b[0m\n\u001b[1;32m    103\u001b[0m         \u001b[0mself\u001b[0m\u001b[0;34m.\u001b[0m\u001b[0mlogger\u001b[0m \u001b[0;34m=\u001b[0m \u001b[0mbuild_logger\u001b[0m\u001b[0;34m(\u001b[0m\u001b[0mlog_level\u001b[0m\u001b[0;34m,\u001b[0m \u001b[0m__name__\u001b[0m\u001b[0;34m)\u001b[0m\u001b[0;34m\u001b[0m\u001b[0;34m\u001b[0m\u001b[0m\n\u001b[1;32m    104\u001b[0m \u001b[0;34m\u001b[0m\u001b[0m\n\u001b[0;32m--> 105\u001b[0;31m         \u001b[0mself\u001b[0m\u001b[0;34m.\u001b[0m\u001b[0mX\u001b[0m \u001b[0;34m=\u001b[0m \u001b[0mself\u001b[0m\u001b[0;34m.\u001b[0m\u001b[0m_check_X\u001b[0m\u001b[0;34m(\u001b[0m\u001b[0mX\u001b[0m\u001b[0;34m)\u001b[0m\u001b[0;34m\u001b[0m\u001b[0;34m\u001b[0m\u001b[0m\n\u001b[0m\u001b[1;32m    106\u001b[0m         \u001b[0mself\u001b[0m\u001b[0;34m.\u001b[0m\u001b[0my\u001b[0m \u001b[0;34m=\u001b[0m \u001b[0mself\u001b[0m\u001b[0;34m.\u001b[0m\u001b[0m_check_y\u001b[0m\u001b[0;34m(\u001b[0m\u001b[0my\u001b[0m\u001b[0;34m,\u001b[0m \u001b[0mself\u001b[0m\u001b[0;34m.\u001b[0m\u001b[0mX\u001b[0m\u001b[0;34m)\u001b[0m\u001b[0;34m\u001b[0m\u001b[0;34m\u001b[0m\u001b[0m\n\u001b[1;32m    107\u001b[0m         \u001b[0mself\u001b[0m\u001b[0;34m.\u001b[0m\u001b[0mdata_type\u001b[0m \u001b[0;34m=\u001b[0m \u001b[0mtype\u001b[0m\u001b[0;34m(\u001b[0m\u001b[0mself\u001b[0m\u001b[0;34m.\u001b[0m\u001b[0mX\u001b[0m\u001b[0;34m)\u001b[0m\u001b[0;34m\u001b[0m\u001b[0;34m\u001b[0m\u001b[0m\n",
            "\u001b[0;32m/usr/local/lib/python3.10/dist-packages/skater/data/datamanager.py\u001b[0m in \u001b[0;36m_check_X\u001b[0;34m(self, X)\u001b[0m\n\u001b[1;32m     33\u001b[0m             \u001b[0merr_msg\u001b[0m \u001b[0;34m=\u001b[0m \u001b[0;34m'Invalid Data: expected data to be a numpy array or pandas dataframe but got '\u001b[0m\u001b[0;31m \u001b[0m\u001b[0;31m\\\u001b[0m\u001b[0;34m\u001b[0m\u001b[0;34m\u001b[0m\u001b[0m\n\u001b[1;32m     34\u001b[0m                       \u001b[0;34m'{}'\u001b[0m\u001b[0;34m.\u001b[0m\u001b[0mformat\u001b[0m\u001b[0;34m(\u001b[0m\u001b[0mtype\u001b[0m\u001b[0;34m(\u001b[0m\u001b[0mX\u001b[0m\u001b[0;34m)\u001b[0m\u001b[0;34m)\u001b[0m\u001b[0;34m\u001b[0m\u001b[0;34m\u001b[0m\u001b[0m\n\u001b[0;32m---> 35\u001b[0;31m             \u001b[0;32mraise\u001b[0m\u001b[0;34m(\u001b[0m\u001b[0mexceptions\u001b[0m\u001b[0;34m.\u001b[0m\u001b[0mDataSetError\u001b[0m\u001b[0;34m(\u001b[0m\u001b[0merr_msg\u001b[0m\u001b[0;34m)\u001b[0m\u001b[0;34m)\u001b[0m\u001b[0;34m\u001b[0m\u001b[0;34m\u001b[0m\u001b[0m\n\u001b[0m\u001b[1;32m     36\u001b[0m         \u001b[0mndim\u001b[0m \u001b[0;34m=\u001b[0m \u001b[0mlen\u001b[0m\u001b[0;34m(\u001b[0m\u001b[0mX\u001b[0m\u001b[0;34m.\u001b[0m\u001b[0mshape\u001b[0m\u001b[0;34m)\u001b[0m\u001b[0;34m\u001b[0m\u001b[0;34m\u001b[0m\u001b[0m\n\u001b[1;32m     37\u001b[0m         \u001b[0mself\u001b[0m\u001b[0;34m.\u001b[0m\u001b[0mlogger\u001b[0m\u001b[0;34m.\u001b[0m\u001b[0mdebug\u001b[0m\u001b[0;34m(\u001b[0m\u001b[0;34m\"__init__ data.shape: {}\"\u001b[0m\u001b[0;34m.\u001b[0m\u001b[0mformat\u001b[0m\u001b[0;34m(\u001b[0m\u001b[0mX\u001b[0m\u001b[0;34m.\u001b[0m\u001b[0mshape\u001b[0m\u001b[0;34m)\u001b[0m\u001b[0;34m)\u001b[0m\u001b[0;34m\u001b[0m\u001b[0;34m\u001b[0m\u001b[0m\n",
            "\u001b[0;31mDataSetError\u001b[0m: Invalid Data: expected data to be a numpy array or pandas dataframe but got <class 'pandas.core.indexes.base.Index'>"
          ]
        }
      ]
    },
    {
      "cell_type": "markdown",
      "source": [
        "We can see that density, total sulfur dioxide, and residual sugar are the top three\n",
        "features that contributed toward classifying wine samples as red or white"
      ],
      "metadata": {
        "id": "vYK6tpgW0a8H"
      }
    },
    {
      "cell_type": "markdown",
      "source": [
        "###Visualize model ROC Curve"
      ],
      "metadata": {
        "id": "2NcRRSCb0qL3"
      }
    },
    {
      "cell_type": "code",
      "source": [
        "plot_model_roc_curve(wtp_lr, wtp_test_SX, wtp_test_y)"
      ],
      "metadata": {
        "colab": {
          "base_uri": "https://localhost:8080/",
          "height": 295
        },
        "id": "BsVsCzYp0xtp",
        "outputId": "9ca164f8-a55a-41ec-ab05-26970904c563"
      },
      "execution_count": null,
      "outputs": [
        {
          "output_type": "display_data",
          "data": {
            "text/plain": [
              "<Figure size 432x288 with 1 Axes>"
            ],
            "image/png": "[encoded data removed]"
          },
          "metadata": {
            "needs_background": "light"
          }
        }
      ]
    },
    {
      "cell_type": "markdown",
      "source": [
        "We achieved almost 100% accuracy if you remember for this model and hence the ROC curve is almost\n",
        "perfect where we also see that the area under curve (AUC) is 1 which is perfect."
      ],
      "metadata": {
        "id": "ys3iimL-1cLU"
      }
    },
    {
      "cell_type": "markdown",
      "source": [
        "###Visualize Model Decision Surface"
      ],
      "metadata": {
        "id": "goqrBr9X1knL"
      }
    },
    {
      "cell_type": "code",
      "source": [
        "feature_indices = [i for i, feature in enumerate(wtp_feature_names) \n",
        "                       if feature in ['density', 'total sulfur dioxide']]\n",
        "plot_model_decision_surface(clf=wtp_lr, train_features=wtp_train_SX[:, feature_indices], \n",
        "                                train_labels=wtp_train_y, plot_step=0.02, cmap=plt.cm.Wistia_r,\n",
        "                                markers=[',', 'o'], alphas=[0.9, 0.6], colors=['r', 'y'])"
      ],
      "metadata": {
        "colab": {
          "base_uri": "https://localhost:8080/",
          "height": 265
        },
        "id": "737qMam-1zwK",
        "outputId": "b50c8291-eaa1-47d5-9866-508281e9b158"
      },
      "execution_count": null,
      "outputs": [
        {
          "output_type": "display_data",
          "data": {
            "text/plain": [
              "<Figure size 432x288 with 1 Axes>"
            ],
            "image/png": "[encoded data removed]"
          },
          "metadata": {
            "needs_background": "light"
          }
        }
      ]
    },
    {
      "cell_type": "markdown",
      "source": [
        "The plot shows that our model has learned the underlying patterns\n",
        "quite well based on just the two most important features, which it has used to separate out majority\n",
        "of the red wine samples from the white wine samples depicted by the scatter dots. There are very few\n",
        "misclassifications here and there, which are evident based on the statistics we obtained earlier in the\n",
        "confusion matrices."
      ],
      "metadata": {
        "id": "hD8r0szw16DM"
      }
    }
  ],
  "metadata": {
    "anaconda-cloud": {},
    "kernelspec": {
      "display_name": "Python [conda root]",
      "language": "python",
      "name": "conda-root-py"
    },
    "language_info": {
      "codemirror_mode": {
        "name": "ipython",
        "version": 3
      },
      "file_extension": ".py",
      "mimetype": "text/x-python",
      "name": "python",
      "nbconvert_exporter": "python",
      "pygments_lexer": "ipython3",
      "version": "3.5.2"
    },
    "colab": {
      "provenance": [],
      "include_colab_link": true
    }
  },
  "nbformat": 4,
  "nbformat_minor": 0
}